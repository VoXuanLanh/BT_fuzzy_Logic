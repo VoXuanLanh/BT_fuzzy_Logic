{
  "nbformat": 4,
  "nbformat_minor": 0,
  "metadata": {
    "colab": {
      "provenance": [],
      "gpuType": "T4",
      "authorship_tag": "ABX9TyPwGdSi9ebD9I7Nk7nzGwT6",
      "include_colab_link": true
    },
    "kernelspec": {
      "name": "python3",
      "display_name": "Python 3"
    },
    "language_info": {
      "name": "python"
    },
    "accelerator": "GPU"
  },
  "cells": [
    {
      "cell_type": "markdown",
      "metadata": {
        "id": "view-in-github",
        "colab_type": "text"
      },
      "source": [
        "<a href=\"https://colab.research.google.com/github/VoXuanLanh/BT_fuzzy_Logic/blob/main/Vietnamese_Dishes_Recognition.ipynb\" target=\"_parent\"><img src=\"https://colab.research.google.com/assets/colab-badge.svg\" alt=\"Open In Colab\"/></a>"
      ]
    },
    {
      "cell_type": "code",
      "execution_count": 1,
      "metadata": {
        "id": "A9naybUexzQg"
      },
      "outputs": [],
      "source": [
        "# Cài đặt Kaggle\n",
        "!pip install -q kaggle"
      ]
    },
    {
      "cell_type": "code",
      "source": [
        "# Upload kaggle.json\n",
        "from google.colab import files\n",
        "files.upload()"
      ],
      "metadata": {
        "colab": {
          "base_uri": "https://localhost:8080/",
          "height": 92
        },
        "id": "ID5AIDquyA9d",
        "outputId": "3898decc-d506-4687-d034-1444797bedc6"
      },
      "execution_count": 2,
      "outputs": [
        {
          "output_type": "display_data",
          "data": {
            "text/plain": [
              "<IPython.core.display.HTML object>"
            ],
            "text/html": [
              "\n",
              "     <input type=\"file\" id=\"files-b244d5f3-2c9f-41b8-992c-9dbaf1bcc03b\" name=\"files[]\" multiple disabled\n",
              "        style=\"border:none\" />\n",
              "     <output id=\"result-b244d5f3-2c9f-41b8-992c-9dbaf1bcc03b\">\n",
              "      Upload widget is only available when the cell has been executed in the\n",
              "      current browser session. Please rerun this cell to enable.\n",
              "      </output>\n",
              "      <script>// Copyright 2017 Google LLC\n",
              "//\n",
              "// Licensed under the Apache License, Version 2.0 (the \"License\");\n",
              "// you may not use this file except in compliance with the License.\n",
              "// You may obtain a copy of the License at\n",
              "//\n",
              "//      http://www.apache.org/licenses/LICENSE-2.0\n",
              "//\n",
              "// Unless required by applicable law or agreed to in writing, software\n",
              "// distributed under the License is distributed on an \"AS IS\" BASIS,\n",
              "// WITHOUT WARRANTIES OR CONDITIONS OF ANY KIND, either express or implied.\n",
              "// See the License for the specific language governing permissions and\n",
              "// limitations under the License.\n",
              "\n",
              "/**\n",
              " * @fileoverview Helpers for google.colab Python module.\n",
              " */\n",
              "(function(scope) {\n",
              "function span(text, styleAttributes = {}) {\n",
              "  const element = document.createElement('span');\n",
              "  element.textContent = text;\n",
              "  for (const key of Object.keys(styleAttributes)) {\n",
              "    element.style[key] = styleAttributes[key];\n",
              "  }\n",
              "  return element;\n",
              "}\n",
              "\n",
              "// Max number of bytes which will be uploaded at a time.\n",
              "const MAX_PAYLOAD_SIZE = 100 * 1024;\n",
              "\n",
              "function _uploadFiles(inputId, outputId) {\n",
              "  const steps = uploadFilesStep(inputId, outputId);\n",
              "  const outputElement = document.getElementById(outputId);\n",
              "  // Cache steps on the outputElement to make it available for the next call\n",
              "  // to uploadFilesContinue from Python.\n",
              "  outputElement.steps = steps;\n",
              "\n",
              "  return _uploadFilesContinue(outputId);\n",
              "}\n",
              "\n",
              "// This is roughly an async generator (not supported in the browser yet),\n",
              "// where there are multiple asynchronous steps and the Python side is going\n",
              "// to poll for completion of each step.\n",
              "// This uses a Promise to block the python side on completion of each step,\n",
              "// then passes the result of the previous step as the input to the next step.\n",
              "function _uploadFilesContinue(outputId) {\n",
              "  const outputElement = document.getElementById(outputId);\n",
              "  const steps = outputElement.steps;\n",
              "\n",
              "  const next = steps.next(outputElement.lastPromiseValue);\n",
              "  return Promise.resolve(next.value.promise).then((value) => {\n",
              "    // Cache the last promise value to make it available to the next\n",
              "    // step of the generator.\n",
              "    outputElement.lastPromiseValue = value;\n",
              "    return next.value.response;\n",
              "  });\n",
              "}\n",
              "\n",
              "/**\n",
              " * Generator function which is called between each async step of the upload\n",
              " * process.\n",
              " * @param {string} inputId Element ID of the input file picker element.\n",
              " * @param {string} outputId Element ID of the output display.\n",
              " * @return {!Iterable<!Object>} Iterable of next steps.\n",
              " */\n",
              "function* uploadFilesStep(inputId, outputId) {\n",
              "  const inputElement = document.getElementById(inputId);\n",
              "  inputElement.disabled = false;\n",
              "\n",
              "  const outputElement = document.getElementById(outputId);\n",
              "  outputElement.innerHTML = '';\n",
              "\n",
              "  const pickedPromise = new Promise((resolve) => {\n",
              "    inputElement.addEventListener('change', (e) => {\n",
              "      resolve(e.target.files);\n",
              "    });\n",
              "  });\n",
              "\n",
              "  const cancel = document.createElement('button');\n",
              "  inputElement.parentElement.appendChild(cancel);\n",
              "  cancel.textContent = 'Cancel upload';\n",
              "  const cancelPromise = new Promise((resolve) => {\n",
              "    cancel.onclick = () => {\n",
              "      resolve(null);\n",
              "    };\n",
              "  });\n",
              "\n",
              "  // Wait for the user to pick the files.\n",
              "  const files = yield {\n",
              "    promise: Promise.race([pickedPromise, cancelPromise]),\n",
              "    response: {\n",
              "      action: 'starting',\n",
              "    }\n",
              "  };\n",
              "\n",
              "  cancel.remove();\n",
              "\n",
              "  // Disable the input element since further picks are not allowed.\n",
              "  inputElement.disabled = true;\n",
              "\n",
              "  if (!files) {\n",
              "    return {\n",
              "      response: {\n",
              "        action: 'complete',\n",
              "      }\n",
              "    };\n",
              "  }\n",
              "\n",
              "  for (const file of files) {\n",
              "    const li = document.createElement('li');\n",
              "    li.append(span(file.name, {fontWeight: 'bold'}));\n",
              "    li.append(span(\n",
              "        `(${file.type || 'n/a'}) - ${file.size} bytes, ` +\n",
              "        `last modified: ${\n",
              "            file.lastModifiedDate ? file.lastModifiedDate.toLocaleDateString() :\n",
              "                                    'n/a'} - `));\n",
              "    const percent = span('0% done');\n",
              "    li.appendChild(percent);\n",
              "\n",
              "    outputElement.appendChild(li);\n",
              "\n",
              "    const fileDataPromise = new Promise((resolve) => {\n",
              "      const reader = new FileReader();\n",
              "      reader.onload = (e) => {\n",
              "        resolve(e.target.result);\n",
              "      };\n",
              "      reader.readAsArrayBuffer(file);\n",
              "    });\n",
              "    // Wait for the data to be ready.\n",
              "    let fileData = yield {\n",
              "      promise: fileDataPromise,\n",
              "      response: {\n",
              "        action: 'continue',\n",
              "      }\n",
              "    };\n",
              "\n",
              "    // Use a chunked sending to avoid message size limits. See b/62115660.\n",
              "    let position = 0;\n",
              "    do {\n",
              "      const length = Math.min(fileData.byteLength - position, MAX_PAYLOAD_SIZE);\n",
              "      const chunk = new Uint8Array(fileData, position, length);\n",
              "      position += length;\n",
              "\n",
              "      const base64 = btoa(String.fromCharCode.apply(null, chunk));\n",
              "      yield {\n",
              "        response: {\n",
              "          action: 'append',\n",
              "          file: file.name,\n",
              "          data: base64,\n",
              "        },\n",
              "      };\n",
              "\n",
              "      let percentDone = fileData.byteLength === 0 ?\n",
              "          100 :\n",
              "          Math.round((position / fileData.byteLength) * 100);\n",
              "      percent.textContent = `${percentDone}% done`;\n",
              "\n",
              "    } while (position < fileData.byteLength);\n",
              "  }\n",
              "\n",
              "  // All done.\n",
              "  yield {\n",
              "    response: {\n",
              "      action: 'complete',\n",
              "    }\n",
              "  };\n",
              "}\n",
              "\n",
              "scope.google = scope.google || {};\n",
              "scope.google.colab = scope.google.colab || {};\n",
              "scope.google.colab._files = {\n",
              "  _uploadFiles,\n",
              "  _uploadFilesContinue,\n",
              "};\n",
              "})(self);\n",
              "</script> "
            ]
          },
          "metadata": {}
        },
        {
          "output_type": "stream",
          "name": "stdout",
          "text": [
            "Saving kaggle.json to kaggle.json\n"
          ]
        },
        {
          "output_type": "execute_result",
          "data": {
            "text/plain": [
              "{'kaggle.json': b'{\"username\":\"vxunlanzz\",\"key\":\"fbb5836fd9d1fe9d043b0f5a27b7c58a\"}'}"
            ]
          },
          "metadata": {},
          "execution_count": 2
        }
      ]
    },
    {
      "cell_type": "code",
      "source": [
        "# Tạo thư mục và di chuyển file\n",
        "!mkdir -p ~/.kaggle\n",
        "!cp kaggle.json ~/.kaggle/\n",
        "!chmod 600 ~/.kaggle/kaggle.json"
      ],
      "metadata": {
        "id": "Y5E6Yfx8yHEy"
      },
      "execution_count": 3,
      "outputs": []
    },
    {
      "cell_type": "code",
      "source": [
        "!kaggle datasets download -d quandang/vietnamese-foods"
      ],
      "metadata": {
        "colab": {
          "base_uri": "https://localhost:8080/"
        },
        "id": "mVg4gruLzrd-",
        "outputId": "0c5818d8-dce7-4db8-9895-cf3fbb7480c2"
      },
      "execution_count": 4,
      "outputs": [
        {
          "output_type": "stream",
          "name": "stdout",
          "text": [
            "Dataset URL: https://www.kaggle.com/datasets/quandang/vietnamese-foods\n",
            "License(s): CC-BY-NC-SA-4.0\n"
          ]
        }
      ]
    },
    {
      "cell_type": "code",
      "source": [
        "!unzip -q vietnamese-foods.zip -d vietnamese_food"
      ],
      "metadata": {
        "id": "BipiFN4hyaGi"
      },
      "execution_count": 5,
      "outputs": []
    },
    {
      "cell_type": "code",
      "source": [
        "import os\n",
        "import cv2\n",
        "import numpy as np\n",
        "from sklearn.model_selection import train_test_split\n",
        "from tensorflow.keras.utils import to_categorical\n",
        "\n",
        "data_path = \"/content/vietnamese_food/Images\"\n",
        "classes = sorted([\n",
        "    folder for folder in os.listdir(data_path)\n",
        "    if os.path.isdir(os.path.join(data_path, folder))\n",
        "])\n",
        "print(\"Số lớp:\", len(classes))\n",
        "print(\"Danh sách lớp:\", classes)\n"
      ],
      "metadata": {
        "colab": {
          "base_uri": "https://localhost:8080/"
        },
        "id": "QLMAyUVD1fy-",
        "outputId": "5ce55f7c-1de2-4f0c-f82a-957d42b49f7b"
      },
      "execution_count": 6,
      "outputs": [
        {
          "output_type": "stream",
          "name": "stdout",
          "text": [
            "Số lớp: 3\n",
            "Danh sách lớp: ['Test', 'Train', 'Validate']\n"
          ]
        }
      ]
    },
    {
      "cell_type": "code",
      "source": [
        "img_size = 64\n",
        "train_dirs = [\"/content/vietnamese_food/Images/Train\", \"/content/vietnamese_food/Images/Validate\"]\n",
        "\n",
        "X, y = [], []\n",
        "class_names = []\n",
        "\n",
        "for base_dir in train_dirs:\n",
        "    print(f\" + kiểm tra thư mục: {base_dir}\")\n",
        "    for label in os.listdir(base_dir):\n",
        "        folder = os.path.join(base_dir, label)\n",
        "        if os.path.isdir(folder):\n",
        "            num_imgs = len([\n",
        "                f for f in os.listdir(folder)\n",
        "                if f.lower().endswith(('.jpg', '.jpeg', '.png'))\n",
        "            ])\n",
        "            print(f\" - {label} có {num_imgs} ảnh\")\n"
      ],
      "metadata": {
        "colab": {
          "base_uri": "https://localhost:8080/"
        },
        "id": "OFft_kaK_YFO",
        "outputId": "2f06ee61-10de-4825-dd54-be8525bf7c24"
      },
      "execution_count": 7,
      "outputs": [
        {
          "output_type": "stream",
          "name": "stdout",
          "text": [
            " + kiểm tra thư mục: /content/vietnamese_food/Images/Train\n",
            " - Bun bo Hue có 1071 ảnh\n",
            " - Bun thit nuong có 522 ảnh\n",
            " - Banh duc có 463 ảnh\n",
            " - Banh trang nuong có 556 ảnh\n",
            " - Banh beo có 451 ảnh\n",
            " - Pho có 564 ảnh\n",
            " - Banh chung có 354 ảnh\n",
            " - Banh pia có 310 ảnh\n",
            " - Bun rieu có 805 ảnh\n",
            " - Goi cuon có 598 ảnh\n",
            " - Banh canh có 674 ảnh\n",
            " - Banh mi có 935 ảnh\n",
            " - Mi quang có 618 ảnh\n",
            " - Banh can có 520 ảnh\n",
            " - Hu tieu có 688 ảnh\n",
            " - Banh gio có 448 ảnh\n",
            " - Com tam có 659 ảnh\n",
            " - Xoi xeo có 366 ảnh\n",
            " - Banh cuon có 798 ảnh\n",
            " - Cao lau có 432 ảnh\n",
            " - Chao long có 751 ảnh\n",
            " - Banh xeo có 821 ảnh\n",
            " - Banh tet có 480 ảnh\n",
            " - Ca kho to có 473 ảnh\n",
            " - Banh bot loc có 503 ảnh\n",
            " - Nem chua có 379 ảnh\n",
            " - Bun dau mam tom có 640 ảnh\n",
            " - Banh khot có 584 ảnh\n",
            " - Canh chua có 577 ảnh\n",
            " - Bun mam có 541 ảnh\n",
            " + kiểm tra thư mục: /content/vietnamese_food/Images/Validate\n",
            " - Bun bo Hue có 153 ảnh\n",
            " - Bun thit nuong có 75 ảnh\n",
            " - Banh duc có 66 ảnh\n",
            " - Banh trang nuong có 80 ảnh\n",
            " - Banh beo có 65 ảnh\n",
            " - Pho có 81 ảnh\n",
            " - Banh chung có 50 ảnh\n",
            " - Banh pia có 45 ảnh\n",
            " - Bun rieu có 115 ảnh\n",
            " - Goi cuon có 85 ảnh\n",
            " - Banh canh có 97 ảnh\n",
            " - Banh mi có 133 ảnh\n",
            " - Mi quang có 89 ảnh\n",
            " - Banh can có 75 ảnh\n",
            " - Hu tieu có 98 ảnh\n",
            " - Banh gio có 64 ảnh\n",
            " - Com tam có 94 ảnh\n",
            " - Xoi xeo có 52 ảnh\n",
            " - Banh cuon có 114 ảnh\n",
            " - Cao lau có 62 ảnh\n",
            " - Chao long có 107 ảnh\n",
            " - Banh xeo có 117 ảnh\n",
            " - Banh tet có 68 ảnh\n",
            " - Ca kho to có 67 ảnh\n",
            " - Banh bot loc có 73 ảnh\n",
            " - Nem chua có 54 ảnh\n",
            " - Bun dau mam tom có 92 ảnh\n",
            " - Banh khot có 84 ảnh\n",
            " - Canh chua có 83 ảnh\n",
            " - Bun mam có 77 ảnh\n"
          ]
        }
      ]
    },
    {
      "cell_type": "code",
      "source": [
        "train_dir = \"/content/vietnamese_food/Images/Train\"\n",
        "val_dir = \"/content/vietnamese_food/Images/Validate\"\n",
        "\n",
        "# Load ảnh theo từng class\n",
        "def load_images_from_folder(base_dir):\n",
        "    X, y = [], []\n",
        "    classes = sorted(os.listdir(base_dir))\n",
        "    for label in classes:\n",
        "        folder = os.path.join(base_dir, label)\n",
        "        if not os.path.isdir(folder):\n",
        "            continue\n",
        "        for img_name in os.listdir(folder):\n",
        "            if img_name.lower().endswith(('.jpg', '.jpeg', '.png')):\n",
        "                img_path = os.path.join(folder, img_name)\n",
        "                try:\n",
        "                    img = cv2.imread(img_path)\n",
        "                    img = cv2.resize(img, (img_size, img_size))\n",
        "                    X.append(img)\n",
        "                    y.append(label)\n",
        "                except:\n",
        "                    continue\n",
        "    return np.array(X), np.array(y)\n",
        "\n",
        "X_train, y_train = load_images_from_folder(train_dir)\n",
        "X_val, y_val = load_images_from_folder(val_dir)\n",
        "\n",
        "print(\"Số ảnh train:\", len(X_train))\n",
        "print(\"Số ảnh val:\", len(X_val))\n"
      ],
      "metadata": {
        "id": "qu0h02vr2H-5",
        "colab": {
          "base_uri": "https://localhost:8080/"
        },
        "outputId": "8d6f51b3-a63b-489b-d321-d46d3d7e120e"
      },
      "execution_count": 8,
      "outputs": [
        {
          "output_type": "stream",
          "name": "stdout",
          "text": [
            "Số ảnh train: 17581\n",
            "Số ảnh val: 2515\n"
          ]
        }
      ]
    },
    {
      "cell_type": "code",
      "source": [
        "from sklearn.preprocessing import LabelEncoder\n",
        "\n",
        "le = LabelEncoder()\n",
        "\n",
        "y_train_encoded = le.fit_transform(y_train)\n",
        "y_val_encoded = le.transform(y_val)\n",
        "\n",
        "# One-hot encoding\n",
        "num_classes = len(le.classes_)\n",
        "y_train = to_categorical(y_train_encoded, num_classes=num_classes)\n",
        "y_val = to_categorical(y_val_encoded, num_classes=num_classes)\n",
        "\n",
        "# Chuẩn hóa ảnh\n",
        "X_train = X_train.reshape(X_train.shape[0], img_size, img_size, 3)\n",
        "X_val = X_val.reshape(X_val.shape[0], img_size, img_size, 3)\n",
        "X_train = X_train.astype('float32') / 255.0\n",
        "X_val = X_val.astype('float32') / 255.0\n",
        "\n",
        "# ✅ In thông tin lớp\n",
        "print(\"Số lớp:\", len(le.classes_))\n",
        "print(\"Tên lớp:\", le.classes_)\n",
        "\n",
        "print(X_train.shape)\n",
        "print(len(y_train))\n",
        "print(X_train.ndim)\n",
        "print(X_val.shape)\n",
        "print(len(y_val))\n",
        "print(X_val.ndim)\n",
        "\n",
        "X_train, X_val, y_train, y_val = train_test_split(X_train, y_train, test_size=0.2, stratify=y_train, random_state=42)"
      ],
      "metadata": {
        "colab": {
          "base_uri": "https://localhost:8080/"
        },
        "id": "f3ViPZ6CJzZh",
        "outputId": "72693f5b-1d2a-4180-d5cb-92cf870efab8"
      },
      "execution_count": 10,
      "outputs": [
        {
          "output_type": "stream",
          "name": "stdout",
          "text": [
            "Số lớp: 30\n",
            "Tên lớp: ['Banh beo' 'Banh bot loc' 'Banh can' 'Banh canh' 'Banh chung' 'Banh cuon'\n",
            " 'Banh duc' 'Banh gio' 'Banh khot' 'Banh mi' 'Banh pia' 'Banh tet'\n",
            " 'Banh trang nuong' 'Banh xeo' 'Bun bo Hue' 'Bun dau mam tom' 'Bun mam'\n",
            " 'Bun rieu' 'Bun thit nuong' 'Ca kho to' 'Canh chua' 'Cao lau' 'Chao long'\n",
            " 'Com tam' 'Goi cuon' 'Hu tieu' 'Mi quang' 'Nem chua' 'Pho' 'Xoi xeo']\n",
            "(17581, 64, 64, 3)\n",
            "17581\n",
            "4\n",
            "(2515, 64, 64, 3)\n",
            "2515\n",
            "4\n"
          ]
        }
      ]
    },
    {
      "cell_type": "code",
      "source": [
        "from keras.models import Sequential\n",
        "from keras.layers import Dense, Dropout, Flatten\n",
        "\n",
        "model = Sequential()\n",
        "model.add(Flatten(input_shape=(img_size, img_size, 3)))\n",
        "model.add(Dense(512, activation='relu'))\n",
        "model.add(Dropout(0.5))\n",
        "model.add(Dense(216, activation='relu'))\n",
        "model.add(Dropout(0.5))\n",
        "model.add(Dense(num_classes, activation='softmax'))\n",
        "\n",
        "model.compile(optimizer='adam',\n",
        "              loss='categorical_crossentropy',\n",
        "              metrics=['accuracy'])\n"
      ],
      "metadata": {
        "colab": {
          "base_uri": "https://localhost:8080/"
        },
        "id": "DUmDX1PGS0K5",
        "outputId": "fe4ca826-475a-4060-953b-30adbd02297c"
      },
      "execution_count": 11,
      "outputs": [
        {
          "output_type": "stream",
          "name": "stderr",
          "text": [
            "/usr/local/lib/python3.11/dist-packages/keras/src/layers/reshaping/flatten.py:37: UserWarning: Do not pass an `input_shape`/`input_dim` argument to a layer. When using Sequential models, prefer using an `Input(shape)` object as the first layer in the model instead.\n",
            "  super().__init__(**kwargs)\n"
          ]
        }
      ]
    },
    {
      "cell_type": "code",
      "source": [
        "from tensorflow.keras.preprocessing.image import ImageDataGenerator\n",
        "\n",
        "datagen = ImageDataGenerator(\n",
        "    rotation_range=15,\n",
        "    width_shift_range=0.1,\n",
        "    height_shift_range=0.1,\n",
        "    zoom_range=0.2,\n",
        "    horizontal_flip=True\n",
        ")\n",
        "datagen.fit(X_train)\n",
        "\n",
        "history = model.fit(datagen.flow(X_train, y_train, batch_size=32),\n",
        "                    validation_data=(X_val, y_val),\n",
        "                    epochs=50)\n"
      ],
      "metadata": {
        "colab": {
          "base_uri": "https://localhost:8080/"
        },
        "id": "8QM5U1B9O5rc",
        "outputId": "a1969742-74de-4e5c-a782-43ff3cc8f685"
      },
      "execution_count": 12,
      "outputs": [
        {
          "output_type": "stream",
          "name": "stdout",
          "text": [
            "Epoch 1/50\n"
          ]
        },
        {
          "output_type": "stream",
          "name": "stderr",
          "text": [
            "/usr/local/lib/python3.11/dist-packages/keras/src/trainers/data_adapters/py_dataset_adapter.py:121: UserWarning: Your `PyDataset` class should call `super().__init__(**kwargs)` in its constructor. `**kwargs` can include `workers`, `use_multiprocessing`, `max_queue_size`. Do not pass these arguments to `fit()`, as they will be ignored.\n",
            "  self._warn_if_super_not_called()\n"
          ]
        },
        {
          "output_type": "stream",
          "name": "stdout",
          "text": [
            "\u001b[1m440/440\u001b[0m \u001b[32m━━━━━━━━━━━━━━━━━━━━\u001b[0m\u001b[37m\u001b[0m \u001b[1m24s\u001b[0m 47ms/step - accuracy: 0.0540 - loss: 4.3811 - val_accuracy: 0.0608 - val_loss: 3.3757\n",
            "Epoch 2/50\n",
            "\u001b[1m440/440\u001b[0m \u001b[32m━━━━━━━━━━━━━━━━━━━━\u001b[0m\u001b[37m\u001b[0m \u001b[1m17s\u001b[0m 38ms/step - accuracy: 0.0576 - loss: 3.3763 - val_accuracy: 0.0608 - val_loss: 3.3637\n",
            "Epoch 3/50\n",
            "\u001b[1m440/440\u001b[0m \u001b[32m━━━━━━━━━━━━━━━━━━━━\u001b[0m\u001b[37m\u001b[0m \u001b[1m18s\u001b[0m 40ms/step - accuracy: 0.0630 - loss: 3.3635 - val_accuracy: 0.0608 - val_loss: 3.3603\n",
            "Epoch 4/50\n",
            "\u001b[1m440/440\u001b[0m \u001b[32m━━━━━━━━━━━━━━━━━━━━\u001b[0m\u001b[37m\u001b[0m \u001b[1m17s\u001b[0m 38ms/step - accuracy: 0.0631 - loss: 3.3596 - val_accuracy: 0.0608 - val_loss: 3.3597\n",
            "Epoch 5/50\n",
            "\u001b[1m440/440\u001b[0m \u001b[32m━━━━━━━━━━━━━━━━━━━━\u001b[0m\u001b[37m\u001b[0m \u001b[1m17s\u001b[0m 39ms/step - accuracy: 0.0618 - loss: 3.3589 - val_accuracy: 0.0608 - val_loss: 3.3595\n",
            "Epoch 6/50\n",
            "\u001b[1m440/440\u001b[0m \u001b[32m━━━━━━━━━━━━━━━━━━━━\u001b[0m\u001b[37m\u001b[0m \u001b[1m17s\u001b[0m 38ms/step - accuracy: 0.0622 - loss: 3.3590 - val_accuracy: 0.0608 - val_loss: 3.3594\n",
            "Epoch 7/50\n",
            "\u001b[1m440/440\u001b[0m \u001b[32m━━━━━━━━━━━━━━━━━━━━\u001b[0m\u001b[37m\u001b[0m \u001b[1m17s\u001b[0m 38ms/step - accuracy: 0.0612 - loss: 3.3575 - val_accuracy: 0.0608 - val_loss: 3.3594\n",
            "Epoch 8/50\n",
            "\u001b[1m440/440\u001b[0m \u001b[32m━━━━━━━━━━━━━━━━━━━━\u001b[0m\u001b[37m\u001b[0m \u001b[1m20s\u001b[0m 38ms/step - accuracy: 0.0581 - loss: 3.3665 - val_accuracy: 0.0608 - val_loss: 3.3594\n",
            "Epoch 9/50\n",
            "\u001b[1m440/440\u001b[0m \u001b[32m━━━━━━━━━━━━━━━━━━━━\u001b[0m\u001b[37m\u001b[0m \u001b[1m17s\u001b[0m 39ms/step - accuracy: 0.0630 - loss: 3.3624 - val_accuracy: 0.0608 - val_loss: 3.3594\n",
            "Epoch 10/50\n",
            "\u001b[1m440/440\u001b[0m \u001b[32m━━━━━━━━━━━━━━━━━━━━\u001b[0m\u001b[37m\u001b[0m \u001b[1m20s\u001b[0m 38ms/step - accuracy: 0.0599 - loss: 3.3646 - val_accuracy: 0.0608 - val_loss: 3.3593\n",
            "Epoch 11/50\n",
            "\u001b[1m440/440\u001b[0m \u001b[32m━━━━━━━━━━━━━━━━━━━━\u001b[0m\u001b[37m\u001b[0m \u001b[1m18s\u001b[0m 41ms/step - accuracy: 0.0631 - loss: 3.3576 - val_accuracy: 0.0608 - val_loss: 3.3593\n",
            "Epoch 12/50\n",
            "\u001b[1m440/440\u001b[0m \u001b[32m━━━━━━━━━━━━━━━━━━━━\u001b[0m\u001b[37m\u001b[0m \u001b[1m17s\u001b[0m 39ms/step - accuracy: 0.0633 - loss: 3.3565 - val_accuracy: 0.0608 - val_loss: 3.3594\n",
            "Epoch 13/50\n",
            "\u001b[1m440/440\u001b[0m \u001b[32m━━━━━━━━━━━━━━━━━━━━\u001b[0m\u001b[37m\u001b[0m \u001b[1m17s\u001b[0m 40ms/step - accuracy: 0.0596 - loss: 3.3605 - val_accuracy: 0.0608 - val_loss: 3.3594\n",
            "Epoch 14/50\n",
            "\u001b[1m440/440\u001b[0m \u001b[32m━━━━━━━━━━━━━━━━━━━━\u001b[0m\u001b[37m\u001b[0m \u001b[1m20s\u001b[0m 39ms/step - accuracy: 0.0590 - loss: 3.3610 - val_accuracy: 0.0608 - val_loss: 3.3593\n",
            "Epoch 15/50\n",
            "\u001b[1m440/440\u001b[0m \u001b[32m━━━━━━━━━━━━━━━━━━━━\u001b[0m\u001b[37m\u001b[0m \u001b[1m18s\u001b[0m 41ms/step - accuracy: 0.0612 - loss: 3.3588 - val_accuracy: 0.0608 - val_loss: 3.3593\n",
            "Epoch 16/50\n",
            "\u001b[1m440/440\u001b[0m \u001b[32m━━━━━━━━━━━━━━━━━━━━\u001b[0m\u001b[37m\u001b[0m \u001b[1m17s\u001b[0m 39ms/step - accuracy: 0.0617 - loss: 3.3582 - val_accuracy: 0.0608 - val_loss: 3.3593\n",
            "Epoch 17/50\n",
            "\u001b[1m440/440\u001b[0m \u001b[32m━━━━━━━━━━━━━━━━━━━━\u001b[0m\u001b[37m\u001b[0m \u001b[1m18s\u001b[0m 40ms/step - accuracy: 0.0632 - loss: 3.3591 - val_accuracy: 0.0608 - val_loss: 3.3593\n",
            "Epoch 18/50\n",
            "\u001b[1m440/440\u001b[0m \u001b[32m━━━━━━━━━━━━━━━━━━━━\u001b[0m\u001b[37m\u001b[0m \u001b[1m18s\u001b[0m 40ms/step - accuracy: 0.0594 - loss: 3.3628 - val_accuracy: 0.0608 - val_loss: 3.3593\n",
            "Epoch 19/50\n",
            "\u001b[1m440/440\u001b[0m \u001b[32m━━━━━━━━━━━━━━━━━━━━\u001b[0m\u001b[37m\u001b[0m \u001b[1m17s\u001b[0m 40ms/step - accuracy: 0.0623 - loss: 3.3600 - val_accuracy: 0.0608 - val_loss: 3.3593\n",
            "Epoch 20/50\n",
            "\u001b[1m440/440\u001b[0m \u001b[32m━━━━━━━━━━━━━━━━━━━━\u001b[0m\u001b[37m\u001b[0m \u001b[1m19s\u001b[0m 42ms/step - accuracy: 0.0628 - loss: 3.3571 - val_accuracy: 0.0608 - val_loss: 3.3594\n",
            "Epoch 21/50\n",
            "\u001b[1m440/440\u001b[0m \u001b[32m━━━━━━━━━━━━━━━━━━━━\u001b[0m\u001b[37m\u001b[0m \u001b[1m17s\u001b[0m 39ms/step - accuracy: 0.0595 - loss: 3.3636 - val_accuracy: 0.0608 - val_loss: 3.3593\n",
            "Epoch 22/50\n",
            "\u001b[1m440/440\u001b[0m \u001b[32m━━━━━━━━━━━━━━━━━━━━\u001b[0m\u001b[37m\u001b[0m \u001b[1m18s\u001b[0m 41ms/step - accuracy: 0.0646 - loss: 3.3563 - val_accuracy: 0.0608 - val_loss: 3.3593\n",
            "Epoch 23/50\n",
            "\u001b[1m440/440\u001b[0m \u001b[32m━━━━━━━━━━━━━━━━━━━━\u001b[0m\u001b[37m\u001b[0m \u001b[1m17s\u001b[0m 40ms/step - accuracy: 0.0597 - loss: 3.3641 - val_accuracy: 0.0608 - val_loss: 3.3594\n",
            "Epoch 24/50\n",
            "\u001b[1m440/440\u001b[0m \u001b[32m━━━━━━━━━━━━━━━━━━━━\u001b[0m\u001b[37m\u001b[0m \u001b[1m18s\u001b[0m 42ms/step - accuracy: 0.0601 - loss: 3.3626 - val_accuracy: 0.0608 - val_loss: 3.3593\n",
            "Epoch 25/50\n",
            "\u001b[1m440/440\u001b[0m \u001b[32m━━━━━━━━━━━━━━━━━━━━\u001b[0m\u001b[37m\u001b[0m \u001b[1m18s\u001b[0m 40ms/step - accuracy: 0.0593 - loss: 3.3608 - val_accuracy: 0.0608 - val_loss: 3.3593\n",
            "Epoch 26/50\n",
            "\u001b[1m440/440\u001b[0m \u001b[32m━━━━━━━━━━━━━━━━━━━━\u001b[0m\u001b[37m\u001b[0m \u001b[1m18s\u001b[0m 41ms/step - accuracy: 0.0608 - loss: 3.3563 - val_accuracy: 0.0608 - val_loss: 3.3593\n",
            "Epoch 27/50\n",
            "\u001b[1m440/440\u001b[0m \u001b[32m━━━━━━━━━━━━━━━━━━━━\u001b[0m\u001b[37m\u001b[0m \u001b[1m17s\u001b[0m 39ms/step - accuracy: 0.0585 - loss: 3.3593 - val_accuracy: 0.0608 - val_loss: 3.3594\n",
            "Epoch 28/50\n",
            "\u001b[1m440/440\u001b[0m \u001b[32m━━━━━━━━━━━━━━━━━━━━\u001b[0m\u001b[37m\u001b[0m \u001b[1m17s\u001b[0m 40ms/step - accuracy: 0.0617 - loss: 3.3582 - val_accuracy: 0.0608 - val_loss: 3.3593\n",
            "Epoch 29/50\n",
            "\u001b[1m440/440\u001b[0m \u001b[32m━━━━━━━━━━━━━━━━━━━━\u001b[0m\u001b[37m\u001b[0m \u001b[1m20s\u001b[0m 39ms/step - accuracy: 0.0624 - loss: 3.3620 - val_accuracy: 0.0608 - val_loss: 3.3593\n",
            "Epoch 30/50\n",
            "\u001b[1m440/440\u001b[0m \u001b[32m━━━━━━━━━━━━━━━━━━━━\u001b[0m\u001b[37m\u001b[0m \u001b[1m18s\u001b[0m 41ms/step - accuracy: 0.0604 - loss: 3.3624 - val_accuracy: 0.0608 - val_loss: 3.3593\n",
            "Epoch 31/50\n",
            "\u001b[1m440/440\u001b[0m \u001b[32m━━━━━━━━━━━━━━━━━━━━\u001b[0m\u001b[37m\u001b[0m \u001b[1m17s\u001b[0m 39ms/step - accuracy: 0.0581 - loss: 3.3620 - val_accuracy: 0.0608 - val_loss: 3.3593\n",
            "Epoch 32/50\n",
            "\u001b[1m440/440\u001b[0m \u001b[32m━━━━━━━━━━━━━━━━━━━━\u001b[0m\u001b[37m\u001b[0m \u001b[1m17s\u001b[0m 39ms/step - accuracy: 0.0612 - loss: 3.3570 - val_accuracy: 0.0608 - val_loss: 3.3593\n",
            "Epoch 33/50\n",
            "\u001b[1m440/440\u001b[0m \u001b[32m━━━━━━━━━━━━━━━━━━━━\u001b[0m\u001b[37m\u001b[0m \u001b[1m20s\u001b[0m 39ms/step - accuracy: 0.0604 - loss: 3.3627 - val_accuracy: 0.0608 - val_loss: 3.3593\n",
            "Epoch 34/50\n",
            "\u001b[1m440/440\u001b[0m \u001b[32m━━━━━━━━━━━━━━━━━━━━\u001b[0m\u001b[37m\u001b[0m \u001b[1m18s\u001b[0m 41ms/step - accuracy: 0.0590 - loss: 3.3591 - val_accuracy: 0.0608 - val_loss: 3.3593\n",
            "Epoch 35/50\n",
            "\u001b[1m440/440\u001b[0m \u001b[32m━━━━━━━━━━━━━━━━━━━━\u001b[0m\u001b[37m\u001b[0m \u001b[1m17s\u001b[0m 39ms/step - accuracy: 0.0653 - loss: 3.3559 - val_accuracy: 0.0608 - val_loss: 3.3593\n",
            "Epoch 36/50\n",
            "\u001b[1m440/440\u001b[0m \u001b[32m━━━━━━━━━━━━━━━━━━━━\u001b[0m\u001b[37m\u001b[0m \u001b[1m18s\u001b[0m 40ms/step - accuracy: 0.0596 - loss: 3.3590 - val_accuracy: 0.0608 - val_loss: 3.3593\n",
            "Epoch 37/50\n",
            "\u001b[1m440/440\u001b[0m \u001b[32m━━━━━━━━━━━━━━━━━━━━\u001b[0m\u001b[37m\u001b[0m \u001b[1m17s\u001b[0m 39ms/step - accuracy: 0.0628 - loss: 3.3596 - val_accuracy: 0.0608 - val_loss: 3.3593\n",
            "Epoch 38/50\n",
            "\u001b[1m440/440\u001b[0m \u001b[32m━━━━━━━━━━━━━━━━━━━━\u001b[0m\u001b[37m\u001b[0m \u001b[1m17s\u001b[0m 38ms/step - accuracy: 0.0620 - loss: 3.3588 - val_accuracy: 0.0608 - val_loss: 3.3593\n",
            "Epoch 39/50\n",
            "\u001b[1m440/440\u001b[0m \u001b[32m━━━━━━━━━━━━━━━━━━━━\u001b[0m\u001b[37m\u001b[0m \u001b[1m18s\u001b[0m 40ms/step - accuracy: 0.0585 - loss: 3.3638 - val_accuracy: 0.0608 - val_loss: 3.3593\n",
            "Epoch 40/50\n",
            "\u001b[1m440/440\u001b[0m \u001b[32m━━━━━━━━━━━━━━━━━━━━\u001b[0m\u001b[37m\u001b[0m \u001b[1m17s\u001b[0m 38ms/step - accuracy: 0.0613 - loss: 3.3599 - val_accuracy: 0.0608 - val_loss: 3.3593\n",
            "Epoch 41/50\n",
            "\u001b[1m440/440\u001b[0m \u001b[32m━━━━━━━━━━━━━━━━━━━━\u001b[0m\u001b[37m\u001b[0m \u001b[1m17s\u001b[0m 40ms/step - accuracy: 0.0600 - loss: 3.3602 - val_accuracy: 0.0608 - val_loss: 3.3593\n",
            "Epoch 42/50\n",
            "\u001b[1m440/440\u001b[0m \u001b[32m━━━━━━━━━━━━━━━━━━━━\u001b[0m\u001b[37m\u001b[0m \u001b[1m17s\u001b[0m 38ms/step - accuracy: 0.0602 - loss: 3.3588 - val_accuracy: 0.0608 - val_loss: 3.3593\n",
            "Epoch 43/50\n",
            "\u001b[1m440/440\u001b[0m \u001b[32m━━━━━━━━━━━━━━━━━━━━\u001b[0m\u001b[37m\u001b[0m \u001b[1m17s\u001b[0m 38ms/step - accuracy: 0.0598 - loss: 3.3605 - val_accuracy: 0.0608 - val_loss: 3.3593\n",
            "Epoch 44/50\n",
            "\u001b[1m440/440\u001b[0m \u001b[32m━━━━━━━━━━━━━━━━━━━━\u001b[0m\u001b[37m\u001b[0m \u001b[1m18s\u001b[0m 40ms/step - accuracy: 0.0595 - loss: 3.3648 - val_accuracy: 0.0608 - val_loss: 3.3593\n",
            "Epoch 45/50\n",
            "\u001b[1m440/440\u001b[0m \u001b[32m━━━━━━━━━━━━━━━━━━━━\u001b[0m\u001b[37m\u001b[0m \u001b[1m20s\u001b[0m 38ms/step - accuracy: 0.0629 - loss: 3.3573 - val_accuracy: 0.0608 - val_loss: 3.3593\n",
            "Epoch 46/50\n",
            "\u001b[1m440/440\u001b[0m \u001b[32m━━━━━━━━━━━━━━━━━━━━\u001b[0m\u001b[37m\u001b[0m \u001b[1m18s\u001b[0m 41ms/step - accuracy: 0.0615 - loss: 3.3580 - val_accuracy: 0.0608 - val_loss: 3.3593\n",
            "Epoch 47/50\n",
            "\u001b[1m440/440\u001b[0m \u001b[32m━━━━━━━━━━━━━━━━━━━━\u001b[0m\u001b[37m\u001b[0m \u001b[1m17s\u001b[0m 39ms/step - accuracy: 0.0589 - loss: 3.3616 - val_accuracy: 0.0608 - val_loss: 3.3593\n",
            "Epoch 48/50\n",
            "\u001b[1m440/440\u001b[0m \u001b[32m━━━━━━━━━━━━━━━━━━━━\u001b[0m\u001b[37m\u001b[0m \u001b[1m18s\u001b[0m 41ms/step - accuracy: 0.0594 - loss: 3.3599 - val_accuracy: 0.0608 - val_loss: 3.3593\n",
            "Epoch 49/50\n",
            "\u001b[1m440/440\u001b[0m \u001b[32m━━━━━━━━━━━━━━━━━━━━\u001b[0m\u001b[37m\u001b[0m \u001b[1m17s\u001b[0m 39ms/step - accuracy: 0.0592 - loss: 3.3598 - val_accuracy: 0.0608 - val_loss: 3.3593\n",
            "Epoch 50/50\n",
            "\u001b[1m440/440\u001b[0m \u001b[32m━━━━━━━━━━━━━━━━━━━━\u001b[0m\u001b[37m\u001b[0m \u001b[1m18s\u001b[0m 41ms/step - accuracy: 0.0592 - loss: 3.3608 - val_accuracy: 0.0608 - val_loss: 3.3593\n"
          ]
        }
      ]
    },
    {
      "cell_type": "code",
      "source": [
        "from keras.utils import load_img, img_to_array\n",
        "import numpy as np\n",
        "import matplotlib.pyplot as plt\n",
        "img=load_img('/content/pho-8658.jpg',target_size=(64,64))\n",
        "plt.imshow(img)\n",
        "img_array=img_to_array(img)/255\n",
        "img_flatten=img_array.reshape(1,64,64,3)\n",
        "prediction=model.predict(img_flatten)\n",
        "predicted_index = int(np.argmax(prediction))\n",
        "confidence = np.max(prediction)\n",
        "\n",
        "print(\"Dự đoán:\", le.classes_[predicted_index])\n",
        "print(\"Độ tin cậy:\", confidence)\n"
      ],
      "metadata": {
        "colab": {
          "base_uri": "https://localhost:8080/",
          "height": 486
        },
        "id": "oIfcMwe-qto5",
        "outputId": "9434ba01-be8c-4080-ad6a-d24df64e31c4"
      },
      "execution_count": 20,
      "outputs": [
        {
          "output_type": "stream",
          "name": "stdout",
          "text": [
            "\u001b[1m1/1\u001b[0m \u001b[32m━━━━━━━━━━━━━━━━━━━━\u001b[0m\u001b[37m\u001b[0m \u001b[1m0s\u001b[0m 29ms/step\n",
            "Dự đoán: Bun bo Hue\n",
            "Độ tin cậy: 0.0611314\n"
          ]
        },
        {
          "output_type": "display_data",
          "data": {
            "text/plain": [
              "<Figure size 640x480 with 1 Axes>"
            ],
            "image/png": "[encoded data removed]"
          },
          "metadata": {}
        }
      ]
    },
    {
      "cell_type": "code",
      "source": [
        "model.save(\"lan3.keras\")"
      ],
      "metadata": {
        "id": "o0IjEI5IuwSb"
      },
      "execution_count": 21,
      "outputs": []
    }
  ]
}